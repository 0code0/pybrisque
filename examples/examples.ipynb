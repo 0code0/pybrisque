{
 "cells": [
  {
   "cell_type": "code",
   "execution_count": 1,
   "metadata": {},
   "outputs": [],
   "source": [
    "import os\n",
    "import sys\n",
    "sys.path.append('../')\n",
    "\n",
    "import cv2\n",
    "from brisque import BRISQUE\n",
    "from utilities import root_path"
   ]
  },
  {
   "cell_type": "code",
   "execution_count": 2,
   "metadata": {},
   "outputs": [],
   "source": [
    "reference_path = root_path('examples', 'I04.BMP')"
   ]
  },
  {
   "cell_type": "code",
   "execution_count": 3,
   "metadata": {},
   "outputs": [
    {
     "name": "stdout",
     "output_type": "stream",
     "text": [
      "Reference image: 52.15235935252804\n"
     ]
    }
   ],
   "source": [
    "brisq = BRISQUE()\n",
    "print('Reference image: %s' % brisq.get_score(reference_path))"
   ]
  },
  {
   "cell_type": "code",
   "execution_count": 4,
   "metadata": {},
   "outputs": [
    {
     "data": {
      "text/plain": [
       "array([ 2.179     ,  0.30402987,  0.731     ,  0.04735657,  0.07756376,\n",
       "        0.1239071 ,  0.733     ,  0.03335926,  0.08520782,  0.11808237,\n",
       "        0.732     , -0.01939342,  0.11141511,  0.09223552,  0.729     ,\n",
       "       -0.02168134,  0.11353727,  0.09197227,  2.089     ,  0.35843489,\n",
       "        0.715     , -0.04460715,  0.17456499,  0.12112673,  0.72      ,\n",
       "       -0.03951079,  0.17383695,  0.12622778,  0.727     , -0.03243861,\n",
       "        0.16235556,  0.1242487 ,  0.729     , -0.02929626,  0.15802675,\n",
       "        0.12391231])"
      ]
     },
     "execution_count": 4,
     "metadata": {},
     "output_type": "execute_result"
    }
   ],
   "source": [
    "brisq.get_feature(reference_path)"
   ]
  }
 ],
 "metadata": {
  "kernelspec": {
   "display_name": "Python 3",
   "language": "python",
   "name": "python3"
  },
  "language_info": {
   "codemirror_mode": {
    "name": "ipython",
    "version": 3
   },
   "file_extension": ".py",
   "mimetype": "text/x-python",
   "name": "python",
   "nbconvert_exporter": "python",
   "pygments_lexer": "ipython3",
   "version": "3.6.5"
  }
 },
 "nbformat": 4,
 "nbformat_minor": 2
}

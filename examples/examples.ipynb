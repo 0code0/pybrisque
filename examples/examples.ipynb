{
 "cells": [
  {
   "cell_type": "code",
   "execution_count": 1,
   "metadata": {},
   "outputs": [],
   "source": [
    "import os\n",
    "import sys\n",
    "sys.path.append('../')\n",
    "\n",
    "import cv2\n",
    "from brisque import BRISQUE\n",
    "from utilities import root_path"
   ]
  },
  {
   "cell_type": "code",
   "execution_count": 2,
   "metadata": {},
   "outputs": [],
   "source": [
    "reference_path = root_path('examples', 'I04.BMP')\n",
    "distorted_path1 = root_path('examples','i04_14_1.bmp')\n",
    "distorted_path2 = root_path('examples','i04_14_4.bmp')"
   ]
  },
  {
   "cell_type": "code",
   "execution_count": 3,
   "metadata": {},
   "outputs": [
    {
     "name": "stdout",
     "output_type": "stream",
     "text": [
      "Reference image: 79.19387185112305\n",
      "Distorted image 1: 79.22545681241508\n",
      "Distorted image 2: 79.15319113008383\n"
     ]
    }
   ],
   "source": [
    "brisq = BRISQUE()\n",
    "print('Reference image: %s' % brisq.get_score(reference_path))\n",
    "print('Distorted image 1: %s' % brisq.get_score(distorted_path1))\n",
    "print('Distorted image 2: %s' % brisq.get_score(distorted_path2))"
   ]
  },
  {
   "cell_type": "code",
   "execution_count": 6,
   "metadata": {},
   "outputs": [
    {
     "data": {
      "text/plain": [
       "array([ 2.17900000e+00,  3.04029872e-01,  7.27000000e-01,  4.80626363e-02,\n",
       "        7.68750607e-02,  1.23907104e-01,  7.27000000e-01,  3.28090245e-02,\n",
       "        8.52089036e-02,  1.17598279e-01,  7.21000000e-01, -1.95313801e-02,\n",
       "        1.10953460e-01,  9.15880960e-02,  7.18000000e-01, -2.18057093e-02,\n",
       "        1.13081144e-01,  9.13347949e-02,  1.95700000e+00,  2.82971497e-01,\n",
       "        6.65000000e-01, -1.94583106e-03,  9.76676125e-02,  9.57230809e-02,\n",
       "        6.54000000e-01,  3.91949534e-03,  9.73175986e-02,  1.01312828e-01,\n",
       "        6.60000000e-01, -3.88545131e-02,  1.17132465e-01,  7.81926066e-02,\n",
       "        6.62000000e-01, -3.18404662e-02,  1.11238768e-01,  7.96773200e-02])"
      ]
     },
     "execution_count": 6,
     "metadata": {},
     "output_type": "execute_result"
    }
   ],
   "source": [
    "brisq.get_feature(reference_path)"
   ]
  }
 ],
 "metadata": {
  "kernelspec": {
   "display_name": "Python 3",
   "language": "python",
   "name": "python3"
  },
  "language_info": {
   "codemirror_mode": {
    "name": "ipython",
    "version": 3
   },
   "file_extension": ".py",
   "mimetype": "text/x-python",
   "name": "python",
   "nbconvert_exporter": "python",
   "pygments_lexer": "ipython3",
   "version": "3.6.5"
  }
 },
 "nbformat": 4,
 "nbformat_minor": 2
}

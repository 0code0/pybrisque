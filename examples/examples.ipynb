{
 "cells": [
  {
   "cell_type": "code",
   "execution_count": 1,
   "metadata": {},
   "outputs": [
    {
     "name": "stdout",
     "output_type": "stream",
     "text": [
      "['', '/home/akbar/dev/ml/pybrisque/venv/lib/python36.zip', '/home/akbar/dev/ml/pybrisque/venv/lib/python3.6', '/home/akbar/dev/ml/pybrisque/venv/lib/python3.6/lib-dynload', '/usr/lib/python3.6', '/home/akbar/dev/ml/pybrisque/venv/lib/python3.6/site-packages', '/home/akbar/dev/ml/pybrisque/venv/src/libsvm-python', '/home/akbar/dev/ml/pybrisque/venv/src/matlab-imresize', '/home/akbar/dev/ml/pybrisque/venv/lib/python3.6/site-packages/IPython/extensions', '/home/akbar/.ipython', '../', '../brisque']\n"
     ]
    }
   ],
   "source": [
    "import os\n",
    "import sys\n",
    "sys.path.append('../')\n",
    "sys.path.append('../brisque')\n",
    "print(sys.path)\n",
    "\n",
    "import cv2\n",
    "from brisque import BRISQUE\n",
    "from utilities import root_path"
   ]
  },
  {
   "cell_type": "code",
   "execution_count": 2,
   "metadata": {},
   "outputs": [],
   "source": [
    "reference_path = root_path('examples', 'I04.BMP')"
   ]
  },
  {
   "cell_type": "code",
   "execution_count": 3,
   "metadata": {},
   "outputs": [
    {
     "name": "stdout",
     "output_type": "stream",
     "text": [
      "Reference image: 52.152420808504644\n"
     ]
    }
   ],
   "source": [
    "brisq = BRISQUE()\n",
    "print('Reference image: %s' % brisq.get_score(reference_path))"
   ]
  },
  {
   "cell_type": "code",
   "execution_count": 4,
   "metadata": {},
   "outputs": [
    {
     "data": {
      "text/plain": [
       "array([ 2.179     ,  0.30403122,  0.731     ,  0.04735617,  0.0775647 ,\n",
       "        0.12390786,  0.733     ,  0.033359  ,  0.08520863,  0.11808305,\n",
       "        0.732     , -0.01939333,  0.11141596,  0.09223637,  0.729     ,\n",
       "       -0.02168182,  0.11353836,  0.09197279,  2.089     ,  0.35843565,\n",
       "        0.715     , -0.04460751,  0.17456574,  0.12112696,  0.72      ,\n",
       "       -0.03951104,  0.1738377 ,  0.12622814,  0.727     , -0.0324385 ,\n",
       "        0.16235606,  0.12424927,  0.729     , -0.02929667,  0.15802747,\n",
       "        0.1239125 ])"
      ]
     },
     "execution_count": 4,
     "metadata": {},
     "output_type": "execute_result"
    }
   ],
   "source": [
    "brisq.get_feature(reference_path)"
   ]
  },
  {
   "cell_type": "markdown",
   "metadata": {},
   "source": [
    "# Comparing Matlab Result vs Ours"
   ]
  },
  {
   "cell_type": "code",
   "execution_count": 22,
   "metadata": {},
   "outputs": [],
   "source": [
    "with open('matlab_result.txt') as f:\n",
    "    content = f.readlines()\n",
    "\n",
    "images = {}\n",
    "for x in content:\n",
    "    images[x.strip().split(':')[0]]  = float(x.strip().split(':')[1])"
   ]
  },
  {
   "cell_type": "code",
   "execution_count": 27,
   "metadata": {},
   "outputs": [],
   "source": [
    "matlab_score = list(images.values())\n",
    "ours = []\n",
    "for image in images:\n",
    "    ours.append(brisq.get_score(image))"
   ]
  },
  {
   "cell_type": "code",
   "execution_count": 42,
   "metadata": {},
   "outputs": [
    {
     "data": {
      "image/png": "[encoded data removed]",
      "text/plain": [
       "<Figure size 432x288 with 1 Axes>"
      ]
     },
     "metadata": {},
     "output_type": "display_data"
    }
   ],
   "source": [
    "import matplotlib.pyplot as plt\n",
    "\n",
    "h = {}\n",
    "h['matlab'] ,= plt.plot(list(range(len(ours))), matlab_score, color='r')\n",
    "h['ours'] ,= plt.plot(list(range(len(ours))), ours, color='g')\n",
    "plt.legend([h['matlab'], h['ours']], ['Matlab Score', 'Ours'])\n",
    "plt.show()"
   ]
  },
  {
   "cell_type": "code",
   "execution_count": 36,
   "metadata": {},
   "outputs": [
    {
     "data": {
      "text/plain": [
       "{'min': 0.17222238726479588,\n",
       " 'max': 16.544924728934404,\n",
       " 'mean': 3.9994322498322754,\n",
       " 'std': 3.0715344507521416}"
      ]
     },
     "execution_count": 36,
     "metadata": {},
     "output_type": "execute_result"
    }
   ],
   "source": [
    "import numpy as np\n",
    "\n",
    "def describe(arr):\n",
    "    return {'min': np.min(arr), 'max': np.max(arr), 'mean': np.mean(arr), 'std': np.std(arr)}\n",
    "\n",
    "describe(np.abs(np.array(matlab_score)- np.array(ours)))"
   ]
  }
 ],
 "metadata": {
  "kernelspec": {
   "display_name": "Python 3",
   "language": "python",
   "name": "python3"
  },
  "language_info": {
   "codemirror_mode": {
    "name": "ipython",
    "version": 3
   },
   "file_extension": ".py",
   "mimetype": "text/x-python",
   "name": "python",
   "nbconvert_exporter": "python",
   "pygments_lexer": "ipython3",
   "version": "3.6.5"
  }
 },
 "nbformat": 4,
 "nbformat_minor": 2
}

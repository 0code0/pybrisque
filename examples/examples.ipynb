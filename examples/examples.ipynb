{
 "cells": [
  {
   "cell_type": "code",
   "execution_count": 1,
   "metadata": {},
   "outputs": [],
   "source": [
    "import os\n",
    "import sys\n",
    "sys.path.append('../')\n",
    "\n",
    "import cv2\n",
    "from brisque import BRISQUE\n",
    "from utilities import root_path"
   ]
  },
  {
   "cell_type": "code",
   "execution_count": 2,
   "metadata": {},
   "outputs": [],
   "source": [
    "reference_path = root_path('examples', 'I04.BMP')\n",
    "distorted_path1 = root_path('examples','i04_14_1.bmp')\n",
    "distorted_path2 = root_path('examples','i04_14_4.bmp')"
   ]
  },
  {
   "cell_type": "code",
   "execution_count": 3,
   "metadata": {},
   "outputs": [
    {
     "name": "stdout",
     "output_type": "stream",
     "text": [
      "Reference image: 79.19387185112305\n",
      "Distorted image 1: 79.22545681241508\n",
      "Distorted image 2: 79.15319113008383\n"
     ]
    }
   ],
   "source": [
    "brisq = BRISQUE()\n",
    "print('Reference image: %s' % brisq.get_score(reference_path))\n",
    "print('Distorted image 1: %s' % brisq.get_score(distorted_path1))\n",
    "print('Distorted image 2: %s' % brisq.get_score(distorted_path2))"
   ]
  }
 ],
 "metadata": {
  "kernelspec": {
   "display_name": "Python 3",
   "language": "python",
   "name": "python3"
  },
  "language_info": {
   "codemirror_mode": {
    "name": "ipython",
    "version": 3
   },
   "file_extension": ".py",
   "mimetype": "text/x-python",
   "name": "python",
   "nbconvert_exporter": "python",
   "pygments_lexer": "ipython3",
   "version": "3.6.5"
  }
 },
 "nbformat": 4,
 "nbformat_minor": 2
}
